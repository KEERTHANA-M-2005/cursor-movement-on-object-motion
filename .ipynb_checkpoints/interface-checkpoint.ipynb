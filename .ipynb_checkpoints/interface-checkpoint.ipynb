{
 "cells": [
  {
   "cell_type": "code",
   "execution_count": null,
   "id": "8cdb5d77-28e5-4e3b-87fb-f1018c3b51cc",
   "metadata": {},
   "outputs": [],
   "source": [
    "import tkinter as tk\n",
    "import subprocess\n",
    "\n",
    "def open_file1():\n",
    "    subprocess.Popen([\"python\", \"untitled.txt\"])\n",
    "\n",
    "def open_file2():\n",
    "    subprocess.Popen([\"python\", \"Brightness_volume_control.ipynb\"])\n",
    "\n",
    "window = tk.Tk()\n",
    "window.title(\"\")\n",
    "\n",
    "button1 = tk.Button(window, text=\"Cursor\", command=open_file1)\n",
    "button1.pack(pady=20)\n",
    "\n",
    "button2 = tk.Button(window, text=\"Volume/Brightness\", command=open_file2)\n",
    "button2.pack(pady=20)\n",
    "\n",
    "window.mainloop()"
   ]
  },
  {
   "cell_type": "code",
   "execution_count": null,
   "id": "8ea31673-2952-4280-8947-5bd768122ca6",
   "metadata": {},
   "outputs": [],
   "source": []
  }
 ],
 "metadata": {
  "kernelspec": {
   "display_name": "Python 3 (ipykernel)",
   "language": "python",
   "name": "python3"
  },
  "language_info": {
   "codemirror_mode": {
    "name": "ipython",
    "version": 3
   },
   "file_extension": ".py",
   "mimetype": "text/x-python",
   "name": "python",
   "nbconvert_exporter": "python",
   "pygments_lexer": "ipython3",
   "version": "3.9.1"
  }
 },
 "nbformat": 4,
 "nbformat_minor": 5
}
